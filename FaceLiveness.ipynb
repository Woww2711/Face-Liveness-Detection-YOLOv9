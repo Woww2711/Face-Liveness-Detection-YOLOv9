{
  "cells": [
    {
      "cell_type": "code",
      "execution_count": null,
      "metadata": {
        "id": "lw9PYtGTnQ3G"
      },
      "outputs": [],
      "source": [
        "!pip install ultralytics"
      ]
    },
    {
      "cell_type": "code",
      "execution_count": null,
      "metadata": {
        "id": "QcBe1_ianljL"
      },
      "outputs": [],
      "source": [
        "from ultralytics import YOLO"
      ]
    },
    {
      "cell_type": "code",
      "execution_count": null,
      "metadata": {
        "id": "AbU-4ygUpOEy"
      },
      "outputs": [],
      "source": [
        "from google.colab import drive\n",
        "drive.mount('/content/drive')"
      ]
    },
    {
      "cell_type": "code",
      "execution_count": null,
      "metadata": {
        "id": "AmdPRbHJpwTw"
      },
      "outputs": [],
      "source": [
        "!cp /content/drive/MyDrive/FaceLiveness/data.zip /content"
      ]
    },
    {
      "cell_type": "code",
      "execution_count": null,
      "metadata": {
        "id": "_eGrDGQ1p-mN"
      },
      "outputs": [],
      "source": [
        "%cd /content\n",
        "!unzip -q data.zip -d /content/data"
      ]
    },
    {
      "cell_type": "code",
      "execution_count": null,
      "metadata": {
        "id": "ejC7qe_pq1kA"
      },
      "outputs": [],
      "source": [
        "!yolo task=detect mode=train model=\"Your yolo pretrained path here\" data=../content/data/data.yaml epochs=200 imgsz=640 patience=25 close_mosaic=50 project=/content/drive/MyDrive/FaceLiveness cache=True"
      ]
    }
  ],
  "metadata": {
    "accelerator": "GPU",
    "colab": {
      "gpuType": "V100",
      "machine_shape": "hm",
      "provenance": []
    },
    "kernelspec": {
      "display_name": "Python 3",
      "name": "python3"
    },
    "language_info": {
      "name": "python"
    }
  },
  "nbformat": 4,
  "nbformat_minor": 0
}
